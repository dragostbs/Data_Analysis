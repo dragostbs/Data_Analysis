{
 "cells": [
  {
   "cell_type": "markdown",
   "id": "7f8b77f5-c8fc-4d99-8e93-1f32d7b2f134",
   "metadata": {},
   "source": [
    "# Statistics Calculations"
   ]
  },
  {
   "cell_type": "code",
   "execution_count": 1,
   "id": "6fa740f1-7447-4426-be45-a3ece4b3a577",
   "metadata": {},
   "outputs": [
    {
     "name": "stdout",
     "output_type": "stream",
     "text": [
      "Media = 141.4\n",
      "Mediana = 179\n",
      "Modala = 179\n",
      "Percentila 85% = 14.45\n",
      "Cuartila 25% = 4.25\n",
      "Cuartila 50% = 8.5\n",
      "Cuartila 75% = 12.75\n"
     ]
    },
    {
     "data": {
      "image/png": "[encoded data removed]",
      "text/plain": [
       "<Figure size 432x288 with 1 Axes>"
      ]
     },
     "metadata": {
      "needs_background": "light"
     },
     "output_type": "display_data"
    }
   ],
   "source": [
    "from matplotlib import pyplot as plt\n",
    "import pandas as pd\n",
    "\n",
    "# no days n\n",
    "n = 20\n",
    "# units u\n",
    "u = [150, 160, 170, 181, 156, 176, 148, 198, 179, 162, 156, 179, 178, 151, 157, 179, 148]\n",
    "\n",
    "# average, median, percentile 85%, quartile 25%, 50%, 75%\n",
    "calc_avg = sum(u) / n\n",
    "calc_median = u[8]\n",
    "calc_percentile_85 = (85 / 100) * len(u)\n",
    "calc_quartile_25 = (1 / 4) * len(u)\n",
    "calc_quartile_50 = (1 / 2) * len(u)\n",
    "calc_quartile_75 = (3 / 4) * len(u)\n",
    "\n",
    "# modal\n",
    "def modal(u):\n",
    "    counter = 0\n",
    "    num = u[0]\n",
    "    for i in u:\n",
    "        calc_modal = u.count(i)\n",
    "        if (calc_modal > counter):\n",
    "            counter = calc_modal\n",
    "            num = i\n",
    "    return num\n",
    "\n",
    "print(\"Average = \" + str(calc_avg))\n",
    "print(\"Median = \" + str(calc_median))\n",
    "print(\"Modal = \" + str(modal(u)))\n",
    "print(\"Percentile 85% = \" + str(calc_percentile_85))\n",
    "print(\"Quartile 25% = \" + str(calc_quartile_25))\n",
    "print(\"Quartile 50% = \" + str(calc_quartile_50))\n",
    "print(\"Quartile 75% = \" + str(calc_cuartila_75))\n",
    "\n",
    "bins = [140, 150, 160, 170, 180, 190, 200]\n",
    "plt.title(\"Unitati produse de un angajat in ultimile 20 zile\")\n",
    "plt.hist(u, bins = bins, edgecolor = \"black\")\n",
    "plt.xlabel(\"Unitati de produse\")\n",
    "plt.ylabel(\"Frecventa\")\n",
    "plt.axhline(y = 3, color = 'r', linestyle = \"dashed\", linewidth = '2', alpha = 0.5)\n",
    "plt.show()"
   ]
  },
  {
   "cell_type": "code",
   "execution_count": null,
   "id": "5504e781-9799-4fe1-a7ad-68374eeb0d97",
   "metadata": {},
   "outputs": [],
   "source": []
  }
 ],
 "metadata": {
  "kernelspec": {
   "display_name": "Python 3",
   "language": "python",
   "name": "python3"
  },
  "language_info": {
   "codemirror_mode": {
    "name": "ipython",
    "version": 3
   },
   "file_extension": ".py",
   "mimetype": "text/x-python",
   "name": "python",
   "nbconvert_exporter": "python",
   "pygments_lexer": "ipython3",
   "version": "3.8.8"
  }
 },
 "nbformat": 4,
 "nbformat_minor": 5
}
