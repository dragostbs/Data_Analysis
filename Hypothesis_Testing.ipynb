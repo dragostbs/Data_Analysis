{
 "cells": [
  {
   "cell_type": "markdown",
   "id": "49098131-56c8-4b2d-8399-508e00426d45",
   "metadata": {},
   "source": [
    "# Statistical Hypothesis Testing"
   ]
  },
  {
   "cell_type": "code",
   "execution_count": 123,
   "id": "a7b937ba-d4b4-4a50-9d12-051cd700b443",
   "metadata": {},
   "outputs": [],
   "source": [
    "import numpy as np\n",
    "from scipy.stats import norm, t"
   ]
  },
  {
   "cell_type": "markdown",
   "id": "d226e7d2-0e07-41de-ad9a-fb9933667928",
   "metadata": {},
   "source": [
    "#### Ex 1. A manufacturer of golf balls wants to make sure that the average distance covered by the produced balls is 295m. If it is lower, sales decrease and if it is higher, it falls into another regulatory category. Periodically a sample of 50 balls is taken for monitoring. Previous data has shown that σ = 12. If a sample has an average of 297.6, should the company take steps to adjust production?"
   ]
  },
  {
   "cell_type": "code",
   "execution_count": 107,
   "id": "5e1e14dd-5d37-4fe1-abb0-f577855afa69",
   "metadata": {},
   "outputs": [],
   "source": [
    "# 1. H0: mu=295; H1: mu=/295\n",
    "# 2. we use z"
   ]
  },
  {
   "cell_type": "code",
   "execution_count": 108,
   "id": "0f3f034e-88b6-4320-b151-29fa42ec33ac",
   "metadata": {},
   "outputs": [],
   "source": [
    "# 3.\n",
    "\n",
    "alfa=0.05"
   ]
  },
  {
   "cell_type": "code",
   "execution_count": 109,
   "id": "8142c71d-198c-4cb7-b764-633e266ace65",
   "metadata": {},
   "outputs": [
    {
     "data": {
      "text/plain": [
       "1.959963984540054"
      ]
     },
     "execution_count": 109,
     "metadata": {},
     "output_type": "execute_result"
    }
   ],
   "source": [
    "# 4. Decision rule\n",
    "\n",
    "z_alfa_div_2 = norm.ppf(1-alfa/2)\n",
    "z_alfa_div_2\n",
    "\n",
    "# if z <-1.95 or z> 1.95 rejects H0"
   ]
  },
  {
   "cell_type": "code",
   "execution_count": 110,
   "id": "684f277f-61a4-419e-897f-beaff1979706",
   "metadata": {},
   "outputs": [
    {
     "data": {
      "text/plain": [
       "1.5320646925708663"
      ]
     },
     "execution_count": 110,
     "metadata": {},
     "output_type": "execute_result"
    }
   ],
   "source": [
    "# 5. Statistic calculations\n",
    "\n",
    "mu0=295\n",
    "n=50\n",
    "sigma=12\n",
    "avg=297.6\n",
    "\n",
    "z=(avg-mu0)/(sigma/np.sqrt(n))\n",
    "z"
   ]
  },
  {
   "cell_type": "code",
   "execution_count": 111,
   "id": "fd04f875-d022-484f-8248-8a9db15cd171",
   "metadata": {},
   "outputs": [
    {
     "name": "stdout",
     "output_type": "stream",
     "text": [
      "No reject H0\n"
     ]
    }
   ],
   "source": [
    "# 6. Decision making\n",
    "\n",
    "if (z<-z_alfa_div_2) | (z>z_alfa_div_2):\n",
    "    print('Reject H0')\n",
    "else:\n",
    "    print('No reject H0')"
   ]
  },
  {
   "cell_type": "code",
   "execution_count": 112,
   "id": "e20f9046-134a-4b11-ba7a-f7748e804fff",
   "metadata": {},
   "outputs": [],
   "source": [
    "# 7. There is no reason to reject the hypothesis that the average is 295.6"
   ]
  },
  {
   "cell_type": "markdown",
   "id": "7ddd3c56-6307-464f-80fb-91a17de0d07b",
   "metadata": {},
   "source": [
    "#### Ex 2. This beer is sold in 300 ml bottles. The law requires that if the amount of 300ml is written on the label, then there should be at least 300ml in the bottle. Take a sample of 30 bottles with an average of 299.5 and s = 1.9 ml. Construct a statistical test to see if it can be stated that the average amount of liquid in the bottle meets the legal requirements."
   ]
  },
  {
   "cell_type": "code",
   "execution_count": 113,
   "id": "75f8c417-df4e-4b1a-972f-09e63dfb49e4",
   "metadata": {},
   "outputs": [],
   "source": [
    "# 1. H0: mu>=300 H1: mu<300\n",
    "# 2. we use t"
   ]
  },
  {
   "cell_type": "code",
   "execution_count": 114,
   "id": "a39e662c-6b47-498c-80d0-511e4fe10a1e",
   "metadata": {},
   "outputs": [],
   "source": [
    "# 3.\n",
    "\n",
    "alfa=0.05"
   ]
  },
  {
   "cell_type": "code",
   "execution_count": 115,
   "id": "5214b19c-bf2e-42cc-87b0-1f934ceb41db",
   "metadata": {},
   "outputs": [
    {
     "data": {
      "text/plain": [
       "2.009575234489209"
      ]
     },
     "execution_count": 115,
     "metadata": {},
     "output_type": "execute_result"
    }
   ],
   "source": [
    "# 4. Decision rule\n",
    "\n",
    "t_alfa_div_2=t.ppf(1-alfa/2, n-1)\n",
    "t_alfa_div_2\n",
    "\n",
    "# If t <2.009 H0 is rejected"
   ]
  },
  {
   "cell_type": "code",
   "execution_count": 116,
   "id": "75761ee8-dc2c-4c38-a186-f2142c83ddbd",
   "metadata": {},
   "outputs": [
    {
     "data": {
      "text/plain": [
       "-1.4413751513293847"
      ]
     },
     "execution_count": 116,
     "metadata": {},
     "output_type": "execute_result"
    }
   ],
   "source": [
    "# 5. Statistic calculations\n",
    "\n",
    "mu0=300\n",
    "n=30\n",
    "s=1.9\n",
    "avg=299.5\n",
    "\n",
    "t=(avg-mu0)/(s/np.sqrt(n))\n",
    "t"
   ]
  },
  {
   "cell_type": "code",
   "execution_count": 117,
   "id": "845263ea-7c34-4acf-9578-9d77787a5d48",
   "metadata": {},
   "outputs": [
    {
     "name": "stdout",
     "output_type": "stream",
     "text": [
      "Reject H0\n"
     ]
    }
   ],
   "source": [
    "# 6. Decision making\n",
    "\n",
    "if (t<t_alfa_div_2):\n",
    "    print('Reject H0')\n",
    "else:\n",
    "    print('No reject H0')"
   ]
  },
  {
   "cell_type": "code",
   "execution_count": 118,
   "id": "a50faebb-a114-43f9-930b-a1732fdb8318",
   "metadata": {},
   "outputs": [],
   "source": [
    "# 7. H0 is rejected, which means the legal requirements are valid"
   ]
  },
  {
   "cell_type": "markdown",
   "id": "dad63e89-4596-4235-b7f1-a88dcaf22e1f",
   "metadata": {},
   "source": [
    "#### Ex 3. The following data represent results reported by two optimization algorithms on a set of 10 test functions. Assuming that the corresponding populations are normally distributed to check if the differences between the results are significant.\n",
    "\n",
    " |  | F1|F2|F3|F4|F5|F6|F7|F8|F9|F10|\n",
    " |:--|:--|:--|:--|:--|:--|:--|:--|:--|:--|:--\n",
    " A1|0.1|0.05|0.2|0.001|0.7|0.3|0.05|0.8|0.6|0.08|\n",
    " A2|0.15|0.03|0.3|0.002|0.75|0.1|0.01|0.75|0.7|0.03| "
   ]
  },
  {
   "cell_type": "code",
   "execution_count": 124,
   "id": "3621257f-c88f-40eb-abd0-2e4ca8f7552f",
   "metadata": {},
   "outputs": [],
   "source": [
    "di=[0.05,-0.02,0.1,0.001,0.05,-0.2,-0.04,-0.05,0.1,-0.05]"
   ]
  },
  {
   "cell_type": "code",
   "execution_count": 125,
   "id": "fd669595-4872-4f42-b187-cb50933d0985",
   "metadata": {},
   "outputs": [],
   "source": [
    "# 1. H0: mud=0   H1: mud=/0\n",
    "# 2. we use t"
   ]
  },
  {
   "cell_type": "code",
   "execution_count": 126,
   "id": "af8286c0-12f4-4adc-bc2b-87457e2905ae",
   "metadata": {},
   "outputs": [],
   "source": [
    "# 3. \n",
    "\n",
    "alfa=0.05"
   ]
  },
  {
   "cell_type": "code",
   "execution_count": 128,
   "id": "21cb7c96-7ff7-4c79-b2fb-93209e0215b1",
   "metadata": {},
   "outputs": [
    {
     "data": {
      "text/plain": [
       "2.045229642132703"
      ]
     },
     "execution_count": 128,
     "metadata": {},
     "output_type": "execute_result"
    }
   ],
   "source": [
    "# 4. Decision rule\n",
    "\n",
    "t_alfa_div_2=t.ppf(1-alfa/2, n-1)\n",
    "t_alfa_div_2\n",
    "\n",
    "# if t <-2.045 or t> 2.045 H0 is rejected"
   ]
  },
  {
   "cell_type": "code",
   "execution_count": 129,
   "id": "61a6ffa2-5481-4ac5-86cb-cec55a4552f2",
   "metadata": {},
   "outputs": [
    {
     "data": {
      "text/plain": [
       "-0.005900000000000002"
      ]
     },
     "execution_count": 129,
     "metadata": {},
     "output_type": "execute_result"
    }
   ],
   "source": [
    "# 5. Statistic calculations\n",
    "\n",
    "d=(1/10)*(np.sum(di))\n",
    "d"
   ]
  },
  {
   "cell_type": "code",
   "execution_count": 130,
   "id": "af7eb4d6-5d57-4a8a-966b-0c70680a7996",
   "metadata": {},
   "outputs": [
    {
     "data": {
      "text/plain": [
       "0.08922686441500303"
      ]
     },
     "execution_count": 130,
     "metadata": {},
     "output_type": "execute_result"
    }
   ],
   "source": [
    "s=np.std(di, ddof=1)\n",
    "s"
   ]
  },
  {
   "cell_type": "code",
   "execution_count": 131,
   "id": "83a2aba5-633a-49e0-ad0f-9e83e56155bd",
   "metadata": {},
   "outputs": [
    {
     "data": {
      "text/plain": [
       "0.0282160120026437"
      ]
     },
     "execution_count": 131,
     "metadata": {},
     "output_type": "execute_result"
    }
   ],
   "source": [
    "sd=s/np.sqrt(10)\n",
    "sd"
   ]
  },
  {
   "cell_type": "code",
   "execution_count": 132,
   "id": "1259e6ee-4eb2-4e12-a35f-b6d944016661",
   "metadata": {},
   "outputs": [
    {
     "data": {
      "text/plain": [
       "-0.20910113021809038"
      ]
     },
     "execution_count": 132,
     "metadata": {},
     "output_type": "execute_result"
    }
   ],
   "source": [
    "t=(d-0)/sd\n",
    "t"
   ]
  },
  {
   "cell_type": "code",
   "execution_count": 133,
   "id": "1e55dcfe-1c8d-4738-a979-2427ebc5ad2e",
   "metadata": {},
   "outputs": [
    {
     "name": "stdout",
     "output_type": "stream",
     "text": [
      "No reject H0\n"
     ]
    }
   ],
   "source": [
    "# 6. Decision making\n",
    "\n",
    "if (t<-t_alfa_pe_2) | (t>t_alfa_pe_2):\n",
    "     print('Reject H0')\n",
    "else:\n",
    "    print('No reject H0')"
   ]
  },
  {
   "cell_type": "code",
   "execution_count": 134,
   "id": "8b776523-c642-40a7-b1f1-c2da004071ae",
   "metadata": {},
   "outputs": [],
   "source": [
    "# 7. H0 cannot be rejected, meaning that the differences between the results are not significant"
   ]
  }
 ],
 "metadata": {
  "kernelspec": {
   "display_name": "Python 3",
   "language": "python",
   "name": "python3"
  },
  "language_info": {
   "codemirror_mode": {
    "name": "ipython",
    "version": 3
   },
   "file_extension": ".py",
   "mimetype": "text/x-python",
   "name": "python",
   "nbconvert_exporter": "python",
   "pygments_lexer": "ipython3",
   "version": "3.8.8"
  }
 },
 "nbformat": 4,
 "nbformat_minor": 5
}
