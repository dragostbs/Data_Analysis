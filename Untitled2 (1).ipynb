{
 "cells": [
  {
   "cell_type": "markdown",
   "id": "a33b59f3-1948-4dc8-9361-f7c59a1ae9b8",
   "metadata": {},
   "source": [
    "# Confidence Intervals"
   ]
  },
  {
   "cell_type": "code",
   "execution_count": 103,
   "id": "fb4e83a6-6a89-436b-99cf-3ccf005f734b",
   "metadata": {},
   "outputs": [],
   "source": [
    "import numpy as np\n",
    "from scipy.stats import norm\n",
    "from scipy.stats import t\n",
    "import matplotlib.pyplot as plt"
   ]
  },
  {
   "cell_type": "markdown",
   "id": "185fc790-ca6a-42fd-a4da-bcb486c2d801",
   "metadata": {},
   "source": [
    "#### Ex 1. A sample of 50 items in a population $\\sigma=6$ has an average of 32. Construct the confidence intervals of the mean by 90%, 95%, 99%."
   ]
  },
  {
   "cell_type": "markdown",
   "id": "0470db9c-6905-4b12-a889-47410c32632a",
   "metadata": {},
   "source": [
    "#### 90%"
   ]
  },
  {
   "cell_type": "code",
   "execution_count": 104,
   "id": "777c1729-c6fb-481d-904c-ae665713340b",
   "metadata": {},
   "outputs": [
    {
     "data": {
      "text/plain": [
       "1.6448536269514722"
      ]
     },
     "execution_count": 104,
     "metadata": {},
     "output_type": "execute_result"
    }
   ],
   "source": [
    "# In this problem we use z\n",
    "\n",
    "n=50\n",
    "sigma=6\n",
    "avg=32\n",
    "alfa=0.1\n",
    "\n",
    "z_alfa_div_2=norm.ppf(1-alfa/2)\n",
    "z_alfa_div_2"
   ]
  },
  {
   "cell_type": "code",
   "execution_count": 105,
   "id": "8d7e58e2-79a6-4718-aa14-7325756cb277",
   "metadata": {},
   "outputs": [
    {
     "data": {
      "text/plain": [
       "(30.60429541558799, 33.39570458441201)"
      ]
     },
     "execution_count": 105,
     "metadata": {},
     "output_type": "execute_result"
    }
   ],
   "source": [
    "# lower limit\n",
    "Bottom=avg-z_alfa_div_2*sigma/np.sqrt(n)\n",
    "\n",
    "# Upper limit\n",
    "Top=avg+z_alfa_div_2*sigma/np.sqrt(n)\n",
    "\n",
    "Bottom, Top"
   ]
  },
  {
   "cell_type": "markdown",
   "id": "b80babec-9b99-4c9b-916d-f53cf5dd8f29",
   "metadata": {},
   "source": [
    "#### 95%"
   ]
  },
  {
   "cell_type": "code",
   "execution_count": 106,
   "id": "fece9662-dee6-460a-91af-1f0583938424",
   "metadata": {},
   "outputs": [
    {
     "data": {
      "text/plain": [
       "(30.336915410780385, 33.663084589219615)"
      ]
     },
     "execution_count": 106,
     "metadata": {},
     "output_type": "execute_result"
    }
   ],
   "source": [
    "alfa=0.05\n",
    "\n",
    "z_alfa_div_2=norm.ppf(1-alfa/2)\n",
    "\n",
    "Bottom=avg-z_alfa_div_2*sigma/np.sqrt(n)\n",
    "Top=avg+z_alfa_div_2*sigma/np.sqrt(n)\n",
    "\n",
    "Bottom, Top"
   ]
  },
  {
   "cell_type": "markdown",
   "id": "5ba619f6-3957-4180-b138-896fa2cdd29b",
   "metadata": {},
   "source": [
    "#### 99%"
   ]
  },
  {
   "cell_type": "code",
   "execution_count": 107,
   "id": "9b77f6d1-905c-4b20-80fc-d2a9c83c7214",
   "metadata": {},
   "outputs": [
    {
     "data": {
      "text/plain": [
       "(29.81433635873786, 34.18566364126214)"
      ]
     },
     "execution_count": 107,
     "metadata": {},
     "output_type": "execute_result"
    }
   ],
   "source": [
    "alfa=0.01\n",
    "\n",
    "z_alfa_div_2=norm.ppf(1-alfa/2)\n",
    "\n",
    "Bottom=avg-z_alfa_div_2*sigma/np.sqrt(n)\n",
    "Top=avg+z_alfa_div_2*sigma/np.sqrt(n)\n",
    "\n",
    "Bottom, Top"
   ]
  },
  {
   "cell_type": "markdown",
   "id": "f24a479c-fb8c-4ffe-80e4-026def9adc03",
   "metadata": {},
   "source": [
    "#### Ex 2. To estimate the average value of the amounts spent by customers at a restaurant, a sample of 55 items is used with an average of 120. Assuming that the mean square deviation of the population is 30, calculate the 95% confidence interval."
   ]
  },
  {
   "cell_type": "code",
   "execution_count": 108,
   "id": "ce6d5c0e-1232-4675-8324-6159c0fba3d9",
   "metadata": {},
   "outputs": [
    {
     "data": {
      "text/plain": [
       "1.959963984540054"
      ]
     },
     "execution_count": 108,
     "metadata": {},
     "output_type": "execute_result"
    }
   ],
   "source": [
    "n=55\n",
    "avg=120\n",
    "sigma=30\n",
    "alfa=0.05\n",
    "\n",
    "z_alfa_div_2=norm.ppf(1-alfa/2)\n",
    "z_alfa_div_2"
   ]
  },
  {
   "cell_type": "code",
   "execution_count": 109,
   "id": "2264c8a1-5ab0-45b6-85d6-aa8c1412b8a1",
   "metadata": {},
   "outputs": [
    {
     "data": {
      "text/plain": [
       "(112.07155530714113, 127.92844469285887)"
      ]
     },
     "execution_count": 109,
     "metadata": {},
     "output_type": "execute_result"
    }
   ],
   "source": [
    "Bottom=avg-z_alfa_div_2*sigma/np.sqrt(n)\n",
    "Top=avg+z_alfa_div_2*sigma/np.sqrt(n)\n",
    "\n",
    "Bottom, Top"
   ]
  },
  {
   "cell_type": "markdown",
   "id": "eb68245a-6e16-49ec-8f64-64e1caef88d3",
   "metadata": {},
   "source": [
    "#### Ex 3. The following values come from a normal distribution: 10,8,12,15,13,11,6,5.\n",
    "\n",
    "- Calculate the average, the mean square deviation and the standard error\n",
    "- Calculate the 99% confidence interval"
   ]
  },
  {
   "cell_type": "code",
   "execution_count": 110,
   "id": "4dbd7454-63ed-4b21-a225-4a91e889af15",
   "metadata": {},
   "outputs": [],
   "source": [
    "# In this problem we use t\n",
    "\n",
    "x=[10,8,12,15,13,11,6,5]"
   ]
  },
  {
   "cell_type": "markdown",
   "id": "706ffec2-ea3a-4e2e-885b-07eb92fe3532",
   "metadata": {},
   "source": [
    "#### 1."
   ]
  },
  {
   "cell_type": "code",
   "execution_count": 111,
   "id": "a90e1290-5806-48c8-953d-22365cd7b261",
   "metadata": {},
   "outputs": [
    {
     "data": {
      "text/plain": [
       "(10.0, 3.4641016151377544)"
      ]
     },
     "execution_count": 111,
     "metadata": {},
     "output_type": "execute_result"
    }
   ],
   "source": [
    "# ddof = 1\n",
    "\n",
    "avg=np.mean(x)\n",
    "s=np.std(x, ddof=1)\n",
    "\n",
    "avg, s"
   ]
  },
  {
   "cell_type": "code",
   "execution_count": 112,
   "id": "2e5004d4-40a9-4678-92f2-9b3a74d26580",
   "metadata": {},
   "outputs": [
    {
     "data": {
      "text/plain": [
       "(8, 1.224744871391589)"
      ]
     },
     "execution_count": 112,
     "metadata": {},
     "output_type": "execute_result"
    }
   ],
   "source": [
    "es=s/np.sqrt(len(x))\n",
    "len(x), es"
   ]
  },
  {
   "cell_type": "markdown",
   "id": "831d897e-0212-4a9c-aa20-771238cc8e6d",
   "metadata": {},
   "source": [
    "#### 2."
   ]
  },
  {
   "cell_type": "code",
   "execution_count": 113,
   "id": "6cb2c14a-8c12-4f58-a9eb-151c509dfc86",
   "metadata": {},
   "outputs": [
    {
     "data": {
      "text/plain": [
       "3.4994832973505026"
      ]
     },
     "execution_count": 113,
     "metadata": {},
     "output_type": "execute_result"
    }
   ],
   "source": [
    "alfa=0.01\n",
    "\n",
    "t_alfa_div_2=t.ppf(1-alfa/2, len(x)-1)\n",
    "t_alfa_div_2"
   ]
  },
  {
   "cell_type": "code",
   "execution_count": 114,
   "id": "a0a10266-31a3-43d1-bfa3-7ba97070fc12",
   "metadata": {},
   "outputs": [
    {
     "data": {
      "text/plain": [
       "(5.714025779049445, 14.285974220950555)"
      ]
     },
     "execution_count": 114,
     "metadata": {},
     "output_type": "execute_result"
    }
   ],
   "source": [
    "Bottom=avg-t_alfa_div_2*es\n",
    "Top=avg+t_alfa_div_2*es\n",
    "\n",
    "Bottom, Top"
   ]
  },
  {
   "cell_type": "markdown",
   "id": "d1e94050-6b22-486e-93ed-b371f6535a6a",
   "metadata": {},
   "source": [
    "#### Ex 4. A random sample of 54 items with an average of 22.5 and $s=4.4$. Calculate the confidence intervals of 90%, 95%, 99%."
   ]
  },
  {
   "cell_type": "code",
   "execution_count": 115,
   "id": "813cc7ac-2cd1-47bd-bf9a-71aaf1ece023",
   "metadata": {},
   "outputs": [
    {
     "data": {
      "text/plain": [
       "0.5987641593469991"
      ]
     },
     "execution_count": 115,
     "metadata": {},
     "output_type": "execute_result"
    }
   ],
   "source": [
    "# In this problem we use t\n",
    "\n",
    "n=54\n",
    "avg=22.5\n",
    "s=4.4\n",
    "\n",
    "es=s/np.sqrt(n)\n",
    "es"
   ]
  },
  {
   "cell_type": "markdown",
   "id": "2153dbb6-9300-435c-809e-cdfb25940733",
   "metadata": {},
   "source": [
    "#### 90%"
   ]
  },
  {
   "cell_type": "code",
   "execution_count": 116,
   "id": "40b219b0-6b4c-47cf-af07-b386688c2876",
   "metadata": {},
   "outputs": [
    {
     "data": {
      "text/plain": [
       "(21.497599199164924, 23.502400800835076)"
      ]
     },
     "execution_count": 116,
     "metadata": {},
     "output_type": "execute_result"
    }
   ],
   "source": [
    "alfa=0.1\n",
    "\n",
    "t_alfa_div_2=t.ppf(1-alfa/2, n-1)\n",
    "\n",
    "Bottom=avg-t_alfa_div_2*es\n",
    "Top=avg+t_alfa_div_2*es\n",
    "\n",
    "Bottom, Top"
   ]
  },
  {
   "cell_type": "markdown",
   "id": "d1cb5ef1-ce62-4ef1-8096-66c611d20ea0",
   "metadata": {},
   "source": [
    "#### 95%"
   ]
  },
  {
   "cell_type": "code",
   "execution_count": 117,
   "id": "01f35ca3-d9ab-4734-835a-250aa3739ece",
   "metadata": {},
   "outputs": [
    {
     "data": {
      "text/plain": [
       "(21.29903118631624, 23.70096881368376)"
      ]
     },
     "execution_count": 117,
     "metadata": {},
     "output_type": "execute_result"
    }
   ],
   "source": [
    "alfa=0.05\n",
    "\n",
    "t_alfa_div_2=t.ppf(1-alfa/2, n-1)\n",
    "\n",
    "Bottom=avg-t_alfa_div_2*es\n",
    "Top=avg+t_alfa_div_2*es\n",
    "\n",
    "Bottom, Top"
   ]
  },
  {
   "cell_type": "markdown",
   "id": "1a8e05f4-06c3-46f3-a97a-97caee3e2922",
   "metadata": {},
   "source": [
    "#### 99%"
   ]
  },
  {
   "cell_type": "code",
   "execution_count": 118,
   "id": "45ed7474-429e-43b5-86f1-4e49d9e5086b",
   "metadata": {},
   "outputs": [
    {
     "data": {
      "text/plain": [
       "(20.900208365286872, 24.099791634713128)"
      ]
     },
     "execution_count": 118,
     "metadata": {},
     "output_type": "execute_result"
    }
   ],
   "source": [
    "alfa=0.01\n",
    "\n",
    "t_alfa_div_2=t.ppf(1-alfa/2, n-1)\n",
    "\n",
    "Bottom=avg-t_alfa_div_2*es\n",
    "Top=avg+t_alfa_div_2*es\n",
    "\n",
    "Bottom, Top"
   ]
  }
 ],
 "metadata": {
  "kernelspec": {
   "display_name": "Python 3",
   "language": "python",
   "name": "python3"
  },
  "language_info": {
   "codemirror_mode": {
    "name": "ipython",
    "version": 3
   },
   "file_extension": ".py",
   "mimetype": "text/x-python",
   "name": "python",
   "nbconvert_exporter": "python",
   "pygments_lexer": "ipython3",
   "version": "3.8.8"
  }
 },
 "nbformat": 4,
 "nbformat_minor": 5
}
