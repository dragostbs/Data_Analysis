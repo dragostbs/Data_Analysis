{
 "cells": [
  {
   "cell_type": "markdown",
   "id": "1c4b1f4c-c848-48d0-99a3-812edec625a7",
   "metadata": {},
   "source": [
    "# Central Limit Theorem"
   ]
  },
  {
   "cell_type": "code",
   "execution_count": 54,
   "id": "3d627701-dde9-4a8c-8ac2-3afb375dd0be",
   "metadata": {},
   "outputs": [],
   "source": [
    "import numpy as np\n",
    "import matplotlib.pyplot as plt\n",
    "from scipy.stats import poisson"
   ]
  },
  {
   "cell_type": "markdown",
   "id": "b1e6764a-baae-4ecd-bff9-2d6321290ac0",
   "metadata": {},
   "source": [
    "#### Simulate the central limit theorem starting from a population that follows a distribution:\n",
    "\n",
    "1. Poisson, where $\\lambda=3$\n",
    "2. Uniform, with values between 5 and 100\n",
    "3. Sample size = 1000\n",
    "\n",
    "Steps:\n",
    "\n",
    "- Determine the mean $\\mu$ and the mean square deviation of the population $\\sigma$\n",
    "- Represent graphically the distribution of the population and a random sample of the population\n",
    "- Extract random samples of size $n$ from the population\n",
    "- Calculate the average for each sample\n",
    "- Represent the distribution of averages calculated in the previous point\n",
    "- Calculate the average of the averages from point 4. and compare with the population average.\n",
    "- Calculate the mean square deviation of the averages from point 4. Compare with $\\sigma/\\sqrt(n)$\n",
    "- Represent the value of the averages from point 6. as a function of $n$, $n=10.20,...,1000$"
   ]
  },
  {
   "cell_type": "markdown",
   "id": "ac803632-8663-488f-926e-8ef8b703d71d",
   "metadata": {},
   "source": [
    "#### 1. "
   ]
  },
  {
   "cell_type": "code",
   "execution_count": 55,
   "id": "44d90e13-7b4a-4e5a-90b7-b1c40c44a62d",
   "metadata": {},
   "outputs": [
    {
     "data": {
      "text/plain": [
       "1.7320508075688772"
      ]
     },
     "execution_count": 55,
     "metadata": {},
     "output_type": "execute_result"
    }
   ],
   "source": [
    "# Lambda in this case is mu\n",
    "\n",
    "mu=3\n",
    "sigma=np.sqrt(mu)\n",
    "sigma"
   ]
  },
  {
   "cell_type": "code",
   "execution_count": 56,
   "id": "f6856d46-a290-47ac-9b85-906075b964cd",
   "metadata": {},
   "outputs": [
    {
     "data": {
      "text/plain": [
       "1.7320508075688772"
      ]
     },
     "execution_count": 56,
     "metadata": {},
     "output_type": "execute_result"
    }
   ],
   "source": [
    "poisson.std(mu=mu)"
   ]
  },
  {
   "cell_type": "markdown",
   "id": "12128832-6044-4b3a-b4bd-d033929bea45",
   "metadata": {},
   "source": [
    "#### 2. "
   ]
  },
  {
   "cell_type": "code",
   "execution_count": 57,
   "id": "b438ffab-7078-4266-bf0c-ad8c85bd5359",
   "metadata": {},
   "outputs": [
    {
     "data": {
      "image/png": "[encoded data removed]",
      "text/plain": [
       "<Figure size 432x288 with 1 Axes>"
      ]
     },
     "metadata": {
      "needs_background": "light"
     },
     "output_type": "display_data"
    }
   ],
   "source": [
    "# Generating random values of 1000\n",
    "\n",
    "x=poisson.rvs(mu=mu, size=1000)\n",
    "plt.hist(x)\n",
    "plt.show()"
   ]
  },
  {
   "cell_type": "markdown",
   "id": "9801be0b-0a6d-46f5-a99d-b9eadadfbda2",
   "metadata": {},
   "source": [
    "#### 3."
   ]
  },
  {
   "cell_type": "code",
   "execution_count": 58,
   "id": "4ee64f58-65c8-4d31-8552-df63d69aeb23",
   "metadata": {},
   "outputs": [
    {
     "data": {
      "text/plain": [
       "array([[2, 4, 5, ..., 0, 4, 3],\n",
       "       [3, 3, 3, ..., 2, 6, 3],\n",
       "       [3, 4, 4, ..., 3, 5, 5],\n",
       "       ...,\n",
       "       [0, 5, 4, ..., 0, 4, 2],\n",
       "       [3, 1, 3, ..., 4, 5, 3],\n",
       "       [5, 6, 1, ..., 2, 3, 4]])"
      ]
     },
     "execution_count": 58,
     "metadata": {},
     "output_type": "execute_result"
    }
   ],
   "source": [
    "nrSamples=100000\n",
    "n=1000\n",
    "\n",
    "samples=poisson.rvs(mu=mu, size=(nrSamples, n))\n",
    "samples"
   ]
  },
  {
   "cell_type": "markdown",
   "id": "6106e79b-0fc2-4f41-bf5c-3e21d85d966d",
   "metadata": {},
   "source": [
    "#### 4."
   ]
  },
  {
   "cell_type": "code",
   "execution_count": 59,
   "id": "ec2aeb47-ddeb-49b4-bb1e-a51a6d6e7820",
   "metadata": {},
   "outputs": [
    {
     "data": {
      "text/plain": [
       "array([3.045, 3.024, 2.998, ..., 2.958, 3.048, 3.065])"
      ]
     },
     "execution_count": 59,
     "metadata": {},
     "output_type": "execute_result"
    }
   ],
   "source": [
    "avgSamples=np.mean(samples, axis=1)\n",
    "avgSamples"
   ]
  },
  {
   "cell_type": "markdown",
   "id": "08224348-17e4-4466-b794-3a88b21adbc6",
   "metadata": {},
   "source": [
    "#### 5."
   ]
  },
  {
   "cell_type": "code",
   "execution_count": 60,
   "id": "a8393dc6-442e-4eda-87a8-10f2c1238318",
   "metadata": {},
   "outputs": [
    {
     "data": {
      "image/png": "[encoded data removed]",
      "text/plain": [
       "<Figure size 432x288 with 1 Axes>"
      ]
     },
     "metadata": {
      "needs_background": "light"
     },
     "output_type": "display_data"
    }
   ],
   "source": [
    "plt.hist(avgSamples, bins=30)\n",
    "plt.show()"
   ]
  },
  {
   "cell_type": "markdown",
   "id": "403ce743-4963-4da6-b6a0-c286697beaf3",
   "metadata": {},
   "source": [
    "#### 6."
   ]
  },
  {
   "cell_type": "code",
   "execution_count": 61,
   "id": "3c69730e-b6e5-409e-a54e-e2cffebd432c",
   "metadata": {},
   "outputs": [
    {
     "name": "stdout",
     "output_type": "stream",
     "text": [
      "2.99992695 3\n"
     ]
    }
   ],
   "source": [
    "avgAverages=np.mean(avgSamples)\n",
    "print(avgAverages, mu)"
   ]
  },
  {
   "cell_type": "markdown",
   "id": "041edae1-f29a-40ba-9cdf-59dc0bc9b6b7",
   "metadata": {},
   "source": [
    "#### 7."
   ]
  },
  {
   "cell_type": "code",
   "execution_count": 62,
   "id": "6cbee000-f62a-4177-a55e-bfa5cb4f0f86",
   "metadata": {},
   "outputs": [
    {
     "name": "stdout",
     "output_type": "stream",
     "text": [
      "0.054802802913442035 0.054772255750516606\n"
     ]
    }
   ],
   "source": [
    "sigmaMean=np.std(avgSamples, ddof=1)\n",
    "print(sigmaMean, sigma/np.sqrt(n))"
   ]
  },
  {
   "cell_type": "markdown",
   "id": "be25930b-0bc6-4c6a-9fb6-437b542a3256",
   "metadata": {},
   "source": [
    "#### 8."
   ]
  },
  {
   "cell_type": "code",
   "execution_count": 63,
   "id": "08b47dda-d76b-4032-ab03-1694f2162e15",
   "metadata": {},
   "outputs": [],
   "source": [
    "n=np.arange(10, 1000, 10)\n",
    "nrSamples=1000\n",
    "\n",
    "def avgPoisson(n, nrSamples, mu):\n",
    "    for n in n:\n",
    "        samples=poisson.rvs(mu=mu, size=(nrSamples, n))\n",
    "        avgSamples=np.mean(samples, axis=1)\n",
    "        avgTotal=np.mean(avgSamples)\n",
    "        yield avgTotal"
   ]
  },
  {
   "cell_type": "code",
   "execution_count": 64,
   "id": "f700a73e-8630-4ffb-b742-05bc15799b55",
   "metadata": {},
   "outputs": [],
   "source": [
    "avg=list(avgPoisson(n, nrSamples, mu))"
   ]
  },
  {
   "cell_type": "code",
   "execution_count": 65,
   "id": "c0dba0c9-df8e-4d57-846d-6df7000a38f5",
   "metadata": {},
   "outputs": [
    {
     "data": {
      "text/plain": [
       "Text(0.5, 1.0, '1000 samples')"
      ]
     },
     "execution_count": 65,
     "metadata": {},
     "output_type": "execute_result"
    },
    {
     "data": {
      "image/png": "[encoded data removed]",
      "text/plain": [
       "<Figure size 432x288 with 1 Axes>"
      ]
     },
     "metadata": {
      "needs_background": "light"
     },
     "output_type": "display_data"
    }
   ],
   "source": [
    "plt.plot(n, avg)\n",
    "plt.axhline(y=mu, color='r')\n",
    "plt.xlabel('sample size')\n",
    "plt.ylabel('average of averages')\n",
    "plt.title(f'{nrSamples} samples')"
   ]
  }
 ],
 "metadata": {
  "kernelspec": {
   "display_name": "Python 3",
   "language": "python",
   "name": "python3"
  },
  "language_info": {
   "codemirror_mode": {
    "name": "ipython",
    "version": 3
   },
   "file_extension": ".py",
   "mimetype": "text/x-python",
   "name": "python",
   "nbconvert_exporter": "python",
   "pygments_lexer": "ipython3",
   "version": "3.8.8"
  }
 },
 "nbformat": 4,
 "nbformat_minor": 5
}
